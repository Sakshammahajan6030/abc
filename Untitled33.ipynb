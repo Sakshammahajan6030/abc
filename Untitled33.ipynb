{
  "nbformat": 4,
  "nbformat_minor": 0,
  "metadata": {
    "colab": {
      "provenance": []
    },
    "kernelspec": {
      "name": "python3",
      "display_name": "Python 3"
    },
    "language_info": {
      "name": "python"
    }
  },
  "cells": [
    {
      "cell_type": "code",
      "execution_count": null,
      "metadata": {
        "id": "-OPP6583S3hi"
      },
      "outputs": [],
      "source": [
        "#discuss the scenarios where multithreading is preferable to multiprocessing and scenarios where\n",
        "#multiprocessing is a better choice."
      ]
    },
    {
      "cell_type": "code",
      "source": [
        "#When Multithreading is Preferable:\n",
        "\n",
        "\n",
        "\n",
        "#I/O-Bound Tasks: If your tasks involve a lot of I/O operations, like reading/writing files, network operations, or waiting for database queries, multithreading can be advantageous. Threads can switch while waiting, keeping the CPU busy.\n",
        "\n",
        "#Shared Data: When tasks need to share data frequently, multithreading might be better since threads share the same memory space. This avoids the overhead of transferring data between separate memory spaces, which is required in multiprocessing.\n",
        "\n",
        "#Lightweight Context Switching: Threads are lighter weight than processes, meaning context switching between threads is faster and requires less memory.\n",
        "\n",
        "#GUI Applications: In applications with graphical user interfaces, multithreading allows the interface to remain responsive while performing background operations.\n",
        "\n",
        "\n",
        "\n",
        "#When Multiprocessing is Better:\n",
        "\n",
        "\n",
        "\n",
        "#CPU-Bound Tasks: For tasks that require heavy computation, such as mathematical calculations, data processing, or machine learning model training, multiprocessing can fully utilize multiple CPU cores, which threading cannot due to the Global Interpreter Lock (GIL) in CPython.\n",
        "\n",
        "#Isolation: If tasks need to run in isolation without affecting each other or the main process, multiprocessing is safer. Each process has its own memory space, preventing one process from corrupting the data of another.\n",
        "\n",
        "#Scalability: For applications that require scaling across multiple CPUs or even machines, multiprocessing provides better scalability.\n",
        "\n",
        "#Parallelism: In scenarios where true parallelism is needed, multiprocessing is the way to go, as each process can run independently on different CPU cores.\n",
        "\n",
        "#Example Scenarios:\n",
        "#Web Scraping: Multithreading can be more efficient when scraping multiple web pages simultaneously since the tasks are I/O-bound.\n",
        "\n",
        "#Image Processing: Multiprocessing is beneficial for tasks like applying filters to a large set of images, as this is CPU-bound work."
      ],
      "metadata": {
        "id": "1oeX4xWlTZaE"
      },
      "execution_count": null,
      "outputs": []
    },
    {
      "cell_type": "code",
      "source": [
        "#Describe what a process pool is and how it helps in managing multiple processes efficiently\n",
        "\n",
        "\n",
        "\n",
        "#A process pool is a collection of worker processes that can be reused to execute\n",
        " #multiple tasks concurrently. It helps manage multiple processes efficiently by\n",
        "#reducing the overhead of process creation and destruction, balancing the load across\n",
        " #available processes, and simplifying parallelism. This makes it easier to optimize resource utilization and scale applications as needed.\n"
      ],
      "metadata": {
        "id": "TbtcugE9Tz0U"
      },
      "execution_count": null,
      "outputs": []
    },
    {
      "cell_type": "code",
      "source": [
        "import multiprocessing\n",
        "\n",
        "def worker_function(x):\n",
        "    return x * x\n",
        "\n",
        "if __name__ == \"__main__\":\n",
        "\n",
        "    pool = multiprocessing.Pool(processes=4)\n",
        "\n",
        "    tasks = [1, 2, 3, 4, 5]\n",
        "\n",
        "\n",
        "    results = pool.map(worker_function, tasks)\n",
        "\n",
        "    print(results)\n",
        "\n",
        "\n",
        "    pool.close()\n",
        "    pool.join()\n"
      ],
      "metadata": {
        "colab": {
          "base_uri": "https://localhost:8080/"
        },
        "id": "SVYT2iaPUov_",
        "outputId": "032b16b7-db9d-44c6-cbcc-01c069ade466"
      },
      "execution_count": 3,
      "outputs": [
        {
          "output_type": "stream",
          "name": "stdout",
          "text": [
            "[1, 4, 9, 16, 25]\n"
          ]
        }
      ]
    },
    {
      "cell_type": "code",
      "source": [
        "#Explain what multiprocessing is and why it is used in Python programs"
      ],
      "metadata": {
        "id": "UzR9iA3WUv6n"
      },
      "execution_count": 4,
      "outputs": []
    },
    {
      "cell_type": "code",
      "source": [
        "#Overcoming GIL Limitations: Python's Global Interpreter Lock (GIL) restricts the execution of multiple threads at once within a single process. Multiprocessing bypasses this limitation by using separate memory spaces for each process.\n",
        "\n",
        "#Performance Boost: It enhances the performance of CPU-bound tasks, such as mathematical computations, data processing, and simulations, by allowing true parallelism.\n",
        "\n",
        "#Resource Utilization: By distributing tasks across multiple processes, it ensures better utilization of the system's CPU and memory resources.\n",
        "\n",
        "#Improved Responsiveness: In applications like web servers or user interfaces, multiprocessing can help maintain responsiveness by offloading time-consuming tasks to separate processes.\n",
        "\n",
        "#Example in Python:\n",
        "#ere’s a simple example using the multiprocessing module:\n",
        "\n",
        "import multiprocessing\n",
        "\n",
        "def compute_square(x):\n",
        "    return x * x\n",
        "\n",
        "if __name__ == \"__main__\":\n",
        "    # Create a pool of worker processes\n",
        "    with multiprocessing.Pool(processes=4) as pool:\n",
        "        numbers = [1, 2, 3, 4, 5]\n",
        "        results = pool.map(compute_square, numbers)\n",
        "        print(results)"
      ],
      "metadata": {
        "colab": {
          "base_uri": "https://localhost:8080/"
        },
        "id": "W6b-LXGSU_ud",
        "outputId": "8f4e48b5-ae04-4ec3-d46f-3a81d0232072"
      },
      "execution_count": 5,
      "outputs": [
        {
          "output_type": "stream",
          "name": "stdout",
          "text": [
            "[1, 4, 9, 16, 25]\n"
          ]
        }
      ]
    },
    {
      "cell_type": "code",
      "source": [
        "#Write a Python program using multithreading where one thread adds numbers to a list, and another\n",
        "#thread removes numbers from the list. Implement a mechanism to avoid race conditions using\n",
        "#threading.Lock.\n",
        "\n",
        "import threading\n",
        "import time\n",
        "\n",
        "shared_list = []\n",
        "lock = threading.Lock()\n",
        "\n",
        "def add_numbers():\n",
        "    for i in range(10):\n",
        "        time.sleep(1)\n",
        "        lock.acquire()\n",
        "        shared_list.append(i)\n",
        "        print(f\"Added: {i}\")\n",
        "        lock.release()\n",
        "\n",
        "def remove_numbers():\n",
        "    for i in range(10):\n",
        "        time.sleep(1.5)\n",
        "        lock.acquire()\n",
        "        if shared_list:\n",
        "            removed = shared_list.pop(0)\n",
        "            print(f\"Removed: {removed}\")\n",
        "        lock.release()\n",
        "\n",
        "if __name__ == \"__main__\":\n",
        "\n",
        "    thread1 = threading.Thread(target=add_numbers)\n",
        "    thread2 = threading.Thread(target=remove_numbers)\n",
        "\n",
        "\n",
        "    thread1.start()\n",
        "    thread2.start()\n",
        "\n",
        "    thread1.join()\n",
        "    thread2.join()\n",
        "\n",
        "    print(\"Final list:\", shared_list)\n"
      ],
      "metadata": {
        "colab": {
          "base_uri": "https://localhost:8080/"
        },
        "id": "0y8lBrX3VRJ7",
        "outputId": "1a697ae5-7593-4d84-f6a8-ba11ff159482"
      },
      "execution_count": 6,
      "outputs": [
        {
          "output_type": "stream",
          "name": "stdout",
          "text": [
            "Added: 0\n",
            "Removed: 0\n",
            "Added: 1\n",
            "Removed: 1\n",
            "Added: 2\n",
            "Added: 3\n",
            "Removed: 2\n",
            "Added: 4\n",
            "Removed: 3\n",
            "Added: 5\n",
            "Added: 6\n",
            "Removed: 4\n",
            "Added: 7\n",
            "Removed: 5\n",
            "Added: 8\n",
            "Added: 9\n",
            "Removed: 6\n",
            "Removed: 7\n",
            "Removed: 8\n",
            "Removed: 9\n",
            "Final list: []\n"
          ]
        }
      ]
    },
    {
      "cell_type": "code",
      "source": [
        "#Describe the methods and tools available in Python for safely sharing data between threads and\n",
        "#processes"
      ],
      "metadata": {
        "id": "ATcvxWmqVu2x"
      },
      "execution_count": null,
      "outputs": []
    },
    {
      "cell_type": "code",
      "source": [
        "#For Threads:\n",
        "\n",
        "\n",
        "import threading\n",
        "\n",
        "lock = threading.Lock()\n",
        "\n",
        "def thread_safe_function():\n",
        "    with lock:\n",
        "\n",
        "        pass\n",
        "\n",
        "\n",
        "#threading.RLock:\n",
        "import threading\n",
        "\n",
        "rlock = threading.RLock()\n",
        "\n",
        "def thread_safe_function():\n",
        "    with rlock:\n",
        "\n",
        "        pass\n",
        "\n",
        "\n",
        "#threading.Condition\n",
        "\n",
        "import threading\n",
        "\n",
        "condition = threading.Condition()\n",
        "\n",
        "def thread_safe_function():\n",
        "    with condition:\n",
        "        condition.wait()\n",
        "\n",
        "\n",
        "\n",
        "#threading.Semaphore:\n",
        "import threading\n",
        "\n",
        "semaphore = threading.Semaphore(3)\n",
        "\n",
        "def thread_safe_function():\n",
        "    with semaphore:\n",
        "\n",
        "        pass\n",
        "\n",
        "from multiprocessing import Process, Queue\n",
        "\n",
        "queue = Queue()\n",
        "\n",
        "def worker(queue):\n",
        "    queue.put('data')\n",
        "\n",
        "process = Process(target=worker, args=(queue,))\n",
        "process.start()\n",
        "process.join()\n",
        "data = queue.get()\n",
        "print(data)\n",
        "\n",
        "\n",
        "from multiprocessing import Process, Manager\n",
        "\n",
        "manager = Manager()\n",
        "shared_list = manager.list()\n",
        "\n",
        "def worker(shared_list):\n",
        "    shared_list.append('data')\n",
        "\n",
        "process = Process(target=worker, args=(shared_list,))\n",
        "process.start()\n",
        "process.join()\n",
        "print(shared_list)\n",
        "\n",
        "\n",
        "\n",
        "from multiprocessing import Process, Value, Array\n",
        "\n",
        "shared_value = Value('i', 0)\n",
        "shared_array = Array('i', [0, 1, 2, 3])\n",
        "\n",
        "def worker(shared_value, shared_array):\n",
        "    shared_value.value += 1\n",
        "    shared_array[0] += 1\n",
        "\n",
        "process = Process(target=worker, args=(shared_value, shared_array))\n",
        "process.start()\n",
        "process.join()\n",
        "print(shared_value.value, shared_array[:])\n"
      ],
      "metadata": {
        "colab": {
          "base_uri": "https://localhost:8080/"
        },
        "id": "hXJrB2H2WjsT",
        "outputId": "6ab6b6b3-adbb-46de-b868-c1533be98d2e"
      },
      "execution_count": 14,
      "outputs": [
        {
          "output_type": "stream",
          "name": "stdout",
          "text": [
            "data\n",
            "['data']\n",
            "1 [1, 1, 2, 3]\n"
          ]
        }
      ]
    },
    {
      "cell_type": "code",
      "source": [
        "#Discuss why it’s crucial to handle exceptions in concurrent programs and the techniques available for\n",
        "#doing so.\n",
        "\n",
        "\n",
        "import threading\n",
        "\n",
        "def thread_function():\n",
        "    try:\n",
        "        # Critical section\n",
        "        pass\n",
        "    except Exception as e:\n",
        "        print(f\"Exception in thread: {e}\")\n",
        "\n",
        "thread = threading.Thread(target=thread_function)\n",
        "thread.start()\n",
        "thread.join()\n",
        "#Context Managers:\n",
        "\n",
        "#se context managers to ensure resources are properly released even if an exception occurs.\n",
        "\n",
        "#Example:\n",
        "import os\n",
        "\n",
        "if os.path.exists('file.txt'):\n",
        "    with open('file.txt', 'r') as file:\n",
        "        try:\n",
        "            # Process file\n",
        "            pass\n",
        "        except Exception as e:\n",
        "            print(f\"Exception: {e}\")\n",
        "#Thread Exception Handling:\n",
        "\n",
        "#In threading, handle exceptions within the thread function and communicate errors using thread-safe data structures like queues.\n",
        "\n",
        "\n",
        "\n",
        "\n",
        "import threading\n",
        "import queue\n",
        "\n",
        "def thread_function(q):\n",
        "    try:\n",
        "        # Critical section\n",
        "        pass\n",
        "    except Exception as e:\n",
        "        q.put(e)\n",
        "\n",
        "q = queue.Queue()\n",
        "thread = threading.Thread(target=thread_function, args=(q,))\n",
        "thread.start()\n",
        "thread.join()\n",
        "\n",
        "if not q.empty():\n",
        "    exception = q.get()\n",
        "    print(f\"Exception in thread: {exception}\")\n",
        "#Multiprocessing Exception Handling:\n",
        "\n",
        "#In multiprocessing, use a similar approach by catching exceptions within the process function and communicating errors via shared data structures.\n",
        "\n",
        "#Example:\n",
        "\n",
        "\n",
        "from multiprocessing import Process, Queue\n",
        "\n",
        "def process_function(q):\n",
        "    try:\n",
        "        # Critical section\n",
        "        pass\n",
        "    except Exception as e:\n",
        "        q.put(e)\n",
        "\n",
        "q = Queue()\n",
        "process = Process(target=process_function, args=(q,))\n",
        "process.start()\n",
        "process.join()\n",
        "\n",
        "if not q.empty():\n",
        "    exception = q.get()\n",
        "    print(f\"Exception in process: {exception}\")\n",
        "#Using Watchdogs or Supervisors:\n",
        "\n",
        "#Implement watchdog threads or supervisor processes to monitor worker threads/processes and restart them if they crash.\n",
        "\n",
        "#Example:\n",
        "\n",
        "\n",
        "import threading\n",
        "import time\n",
        "\n",
        "def worker():\n",
        "    try:\n",
        "        while True:\n",
        "            # Worker task\n",
        "            time.sleep(1)\n",
        "    except Exception as e:\n",
        "        print(f\"Worker crashed: {e}\")\n",
        "\n",
        "def supervisor():\n",
        "    while True:\n",
        "        t = threading.Thread(target=worker)\n",
        "        t.start()\n",
        "        t.join()\n",
        "        print(\"Restarting worker...\")\n",
        "\n",
        "supervisor_thread = threading.Thread(target=supervisor)\n",
        "supervisor_thread.start()\n",
        "print(supervisor_thread.join())"
      ],
      "metadata": {
        "colab": {
          "base_uri": "https://localhost:8080/",
          "height": 1000
        },
        "id": "ZGc8YpvnXvkP",
        "outputId": "0f49bd4a-efd5-4c24-f5df-6d82f0ede3c0"
      },
      "execution_count": 25,
      "outputs": [
        {
          "output_type": "stream",
          "name": "stderr",
          "text": [
            "ERROR:root:Internal Python error in the inspect module.\n",
            "Below is the traceback from this internal error.\n",
            "\n"
          ]
        },
        {
          "output_type": "stream",
          "name": "stdout",
          "text": [
            "Traceback (most recent call last):\n",
            "  File \"/usr/local/lib/python3.10/dist-packages/IPython/core/interactiveshell.py\", line 3553, in run_code\n",
            "    exec(code_obj, self.user_global_ns, self.user_ns)\n",
            "  File \"<ipython-input-25-2503ab2b7c9d>\", line 107, in <cell line: 107>\n",
            "    print(supervisor_thread.join())\n",
            "  File \"/usr/lib/python3.10/threading.py\", line 1096, in join\n",
            "    self._wait_for_tstate_lock()\n",
            "  File \"/usr/lib/python3.10/threading.py\", line 1116, in _wait_for_tstate_lock\n",
            "    if lock.acquire(block, timeout):\n",
            "KeyboardInterrupt\n",
            "\n",
            "During handling of the above exception, another exception occurred:\n",
            "\n",
            "Traceback (most recent call last):\n",
            "  File \"/usr/local/lib/python3.10/dist-packages/IPython/core/interactiveshell.py\", line 2099, in showtraceback\n",
            "    stb = value._render_traceback_()\n",
            "AttributeError: 'KeyboardInterrupt' object has no attribute '_render_traceback_'\n",
            "\n",
            "During handling of the above exception, another exception occurred:\n",
            "\n",
            "Traceback (most recent call last):\n",
            "  File \"/usr/local/lib/python3.10/dist-packages/IPython/core/ultratb.py\", line 1101, in get_records\n",
            "    return _fixed_getinnerframes(etb, number_of_lines_of_context, tb_offset)\n",
            "  File \"/usr/local/lib/python3.10/dist-packages/IPython/core/ultratb.py\", line 248, in wrapped\n",
            "    return f(*args, **kwargs)\n",
            "  File \"/usr/local/lib/python3.10/dist-packages/IPython/core/ultratb.py\", line 281, in _fixed_getinnerframes\n",
            "    records = fix_frame_records_filenames(inspect.getinnerframes(etb, context))\n",
            "  File \"/usr/lib/python3.10/inspect.py\", line 1662, in getinnerframes\n",
            "    frameinfo = (tb.tb_frame,) + getframeinfo(tb, context)\n",
            "  File \"/usr/lib/python3.10/inspect.py\", line 1624, in getframeinfo\n",
            "    lines, lnum = findsource(frame)\n",
            "  File \"/usr/local/lib/python3.10/dist-packages/IPython/core/ultratb.py\", line 170, in findsource\n",
            "    file = getsourcefile(object) or getfile(object)\n",
            "  File \"/usr/lib/python3.10/inspect.py\", line 829, in getsourcefile\n",
            "    module = getmodule(object, filename)\n",
            "  File \"/usr/lib/python3.10/inspect.py\", line 861, in getmodule\n",
            "    file = getabsfile(object, _filename)\n",
            "  File \"/usr/lib/python3.10/inspect.py\", line 845, in getabsfile\n",
            "    return os.path.normcase(os.path.abspath(_filename))\n",
            "  File \"/usr/lib/python3.10/posixpath.py\", line 379, in abspath\n",
            "    path = os.fspath(path)\n",
            "KeyboardInterrupt\n"
          ]
        },
        {
          "output_type": "error",
          "ename": "TypeError",
          "evalue": "object of type 'NoneType' has no len()",
          "traceback": [
            "\u001b[0;31m---------------------------------------------------------------------------\u001b[0m",
            "\u001b[0;31mKeyboardInterrupt\u001b[0m                         Traceback (most recent call last)",
            "    \u001b[0;31m[... skipping hidden 1 frame]\u001b[0m\n",
            "\u001b[0;32m<ipython-input-25-2503ab2b7c9d>\u001b[0m in \u001b[0;36m<cell line: 107>\u001b[0;34m()\u001b[0m\n\u001b[1;32m    106\u001b[0m \u001b[0msupervisor_thread\u001b[0m\u001b[0;34m.\u001b[0m\u001b[0mstart\u001b[0m\u001b[0;34m(\u001b[0m\u001b[0;34m)\u001b[0m\u001b[0;34m\u001b[0m\u001b[0;34m\u001b[0m\u001b[0m\n\u001b[0;32m--> 107\u001b[0;31m \u001b[0mprint\u001b[0m\u001b[0;34m(\u001b[0m\u001b[0msupervisor_thread\u001b[0m\u001b[0;34m.\u001b[0m\u001b[0mjoin\u001b[0m\u001b[0;34m(\u001b[0m\u001b[0;34m)\u001b[0m\u001b[0;34m)\u001b[0m\u001b[0;34m\u001b[0m\u001b[0;34m\u001b[0m\u001b[0m\n\u001b[0m",
            "\u001b[0;32m/usr/lib/python3.10/threading.py\u001b[0m in \u001b[0;36mjoin\u001b[0;34m(self, timeout)\u001b[0m\n\u001b[1;32m   1095\u001b[0m         \u001b[0;32mif\u001b[0m \u001b[0mtimeout\u001b[0m \u001b[0;32mis\u001b[0m \u001b[0;32mNone\u001b[0m\u001b[0;34m:\u001b[0m\u001b[0;34m\u001b[0m\u001b[0;34m\u001b[0m\u001b[0m\n\u001b[0;32m-> 1096\u001b[0;31m             \u001b[0mself\u001b[0m\u001b[0;34m.\u001b[0m\u001b[0m_wait_for_tstate_lock\u001b[0m\u001b[0;34m(\u001b[0m\u001b[0;34m)\u001b[0m\u001b[0;34m\u001b[0m\u001b[0;34m\u001b[0m\u001b[0m\n\u001b[0m\u001b[1;32m   1097\u001b[0m         \u001b[0;32melse\u001b[0m\u001b[0;34m:\u001b[0m\u001b[0;34m\u001b[0m\u001b[0;34m\u001b[0m\u001b[0m\n",
            "\u001b[0;32m/usr/lib/python3.10/threading.py\u001b[0m in \u001b[0;36m_wait_for_tstate_lock\u001b[0;34m(self, block, timeout)\u001b[0m\n\u001b[1;32m   1115\u001b[0m         \u001b[0;32mtry\u001b[0m\u001b[0;34m:\u001b[0m\u001b[0;34m\u001b[0m\u001b[0;34m\u001b[0m\u001b[0m\n\u001b[0;32m-> 1116\u001b[0;31m             \u001b[0;32mif\u001b[0m \u001b[0mlock\u001b[0m\u001b[0;34m.\u001b[0m\u001b[0macquire\u001b[0m\u001b[0;34m(\u001b[0m\u001b[0mblock\u001b[0m\u001b[0;34m,\u001b[0m \u001b[0mtimeout\u001b[0m\u001b[0;34m)\u001b[0m\u001b[0;34m:\u001b[0m\u001b[0;34m\u001b[0m\u001b[0;34m\u001b[0m\u001b[0m\n\u001b[0m\u001b[1;32m   1117\u001b[0m                 \u001b[0mlock\u001b[0m\u001b[0;34m.\u001b[0m\u001b[0mrelease\u001b[0m\u001b[0;34m(\u001b[0m\u001b[0;34m)\u001b[0m\u001b[0;34m\u001b[0m\u001b[0;34m\u001b[0m\u001b[0m\n",
            "\u001b[0;31mKeyboardInterrupt\u001b[0m: ",
            "\nDuring handling of the above exception, another exception occurred:\n",
            "\u001b[0;31mAttributeError\u001b[0m                            Traceback (most recent call last)",
            "\u001b[0;32m/usr/local/lib/python3.10/dist-packages/IPython/core/interactiveshell.py\u001b[0m in \u001b[0;36mshowtraceback\u001b[0;34m(self, exc_tuple, filename, tb_offset, exception_only, running_compiled_code)\u001b[0m\n\u001b[1;32m   2098\u001b[0m                         \u001b[0;31m# in the engines. This should return a list of strings.\u001b[0m\u001b[0;34m\u001b[0m\u001b[0;34m\u001b[0m\u001b[0m\n\u001b[0;32m-> 2099\u001b[0;31m                         \u001b[0mstb\u001b[0m \u001b[0;34m=\u001b[0m \u001b[0mvalue\u001b[0m\u001b[0;34m.\u001b[0m\u001b[0m_render_traceback_\u001b[0m\u001b[0;34m(\u001b[0m\u001b[0;34m)\u001b[0m\u001b[0;34m\u001b[0m\u001b[0;34m\u001b[0m\u001b[0m\n\u001b[0m\u001b[1;32m   2100\u001b[0m                     \u001b[0;32mexcept\u001b[0m \u001b[0mException\u001b[0m\u001b[0;34m:\u001b[0m\u001b[0;34m\u001b[0m\u001b[0;34m\u001b[0m\u001b[0m\n",
            "\u001b[0;31mAttributeError\u001b[0m: 'KeyboardInterrupt' object has no attribute '_render_traceback_'",
            "\nDuring handling of the above exception, another exception occurred:\n",
            "\u001b[0;31mTypeError\u001b[0m                                 Traceback (most recent call last)",
            "    \u001b[0;31m[... skipping hidden 1 frame]\u001b[0m\n",
            "\u001b[0;32m/usr/local/lib/python3.10/dist-packages/IPython/core/interactiveshell.py\u001b[0m in \u001b[0;36mshowtraceback\u001b[0;34m(self, exc_tuple, filename, tb_offset, exception_only, running_compiled_code)\u001b[0m\n\u001b[1;32m   2099\u001b[0m                         \u001b[0mstb\u001b[0m \u001b[0;34m=\u001b[0m \u001b[0mvalue\u001b[0m\u001b[0;34m.\u001b[0m\u001b[0m_render_traceback_\u001b[0m\u001b[0;34m(\u001b[0m\u001b[0;34m)\u001b[0m\u001b[0;34m\u001b[0m\u001b[0;34m\u001b[0m\u001b[0m\n\u001b[1;32m   2100\u001b[0m                     \u001b[0;32mexcept\u001b[0m \u001b[0mException\u001b[0m\u001b[0;34m:\u001b[0m\u001b[0;34m\u001b[0m\u001b[0;34m\u001b[0m\u001b[0m\n\u001b[0;32m-> 2101\u001b[0;31m                         stb = self.InteractiveTB.structured_traceback(etype,\n\u001b[0m\u001b[1;32m   2102\u001b[0m                                             value, tb, tb_offset=tb_offset)\n\u001b[1;32m   2103\u001b[0m \u001b[0;34m\u001b[0m\u001b[0m\n",
            "\u001b[0;32m/usr/local/lib/python3.10/dist-packages/IPython/core/ultratb.py\u001b[0m in \u001b[0;36mstructured_traceback\u001b[0;34m(self, etype, value, tb, tb_offset, number_of_lines_of_context)\u001b[0m\n\u001b[1;32m   1365\u001b[0m         \u001b[0;32melse\u001b[0m\u001b[0;34m:\u001b[0m\u001b[0;34m\u001b[0m\u001b[0;34m\u001b[0m\u001b[0m\n\u001b[1;32m   1366\u001b[0m             \u001b[0mself\u001b[0m\u001b[0;34m.\u001b[0m\u001b[0mtb\u001b[0m \u001b[0;34m=\u001b[0m \u001b[0mtb\u001b[0m\u001b[0;34m\u001b[0m\u001b[0;34m\u001b[0m\u001b[0m\n\u001b[0;32m-> 1367\u001b[0;31m         return FormattedTB.structured_traceback(\n\u001b[0m\u001b[1;32m   1368\u001b[0m             self, etype, value, tb, tb_offset, number_of_lines_of_context)\n\u001b[1;32m   1369\u001b[0m \u001b[0;34m\u001b[0m\u001b[0m\n",
            "\u001b[0;32m/usr/local/lib/python3.10/dist-packages/IPython/core/ultratb.py\u001b[0m in \u001b[0;36mstructured_traceback\u001b[0;34m(self, etype, value, tb, tb_offset, number_of_lines_of_context)\u001b[0m\n\u001b[1;32m   1265\u001b[0m         \u001b[0;32mif\u001b[0m \u001b[0mmode\u001b[0m \u001b[0;32min\u001b[0m \u001b[0mself\u001b[0m\u001b[0;34m.\u001b[0m\u001b[0mverbose_modes\u001b[0m\u001b[0;34m:\u001b[0m\u001b[0;34m\u001b[0m\u001b[0;34m\u001b[0m\u001b[0m\n\u001b[1;32m   1266\u001b[0m             \u001b[0;31m# Verbose modes need a full traceback\u001b[0m\u001b[0;34m\u001b[0m\u001b[0;34m\u001b[0m\u001b[0m\n\u001b[0;32m-> 1267\u001b[0;31m             return VerboseTB.structured_traceback(\n\u001b[0m\u001b[1;32m   1268\u001b[0m                 \u001b[0mself\u001b[0m\u001b[0;34m,\u001b[0m \u001b[0metype\u001b[0m\u001b[0;34m,\u001b[0m \u001b[0mvalue\u001b[0m\u001b[0;34m,\u001b[0m \u001b[0mtb\u001b[0m\u001b[0;34m,\u001b[0m \u001b[0mtb_offset\u001b[0m\u001b[0;34m,\u001b[0m \u001b[0mnumber_of_lines_of_context\u001b[0m\u001b[0;34m\u001b[0m\u001b[0;34m\u001b[0m\u001b[0m\n\u001b[1;32m   1269\u001b[0m             )\n",
            "\u001b[0;32m/usr/local/lib/python3.10/dist-packages/IPython/core/ultratb.py\u001b[0m in \u001b[0;36mstructured_traceback\u001b[0;34m(self, etype, evalue, etb, tb_offset, number_of_lines_of_context)\u001b[0m\n\u001b[1;32m   1122\u001b[0m         \u001b[0;34m\"\"\"Return a nice text document describing the traceback.\"\"\"\u001b[0m\u001b[0;34m\u001b[0m\u001b[0;34m\u001b[0m\u001b[0m\n\u001b[1;32m   1123\u001b[0m \u001b[0;34m\u001b[0m\u001b[0m\n\u001b[0;32m-> 1124\u001b[0;31m         formatted_exception = self.format_exception_as_a_whole(etype, evalue, etb, number_of_lines_of_context,\n\u001b[0m\u001b[1;32m   1125\u001b[0m                                                                tb_offset)\n\u001b[1;32m   1126\u001b[0m \u001b[0;34m\u001b[0m\u001b[0m\n",
            "\u001b[0;32m/usr/local/lib/python3.10/dist-packages/IPython/core/ultratb.py\u001b[0m in \u001b[0;36mformat_exception_as_a_whole\u001b[0;34m(self, etype, evalue, etb, number_of_lines_of_context, tb_offset)\u001b[0m\n\u001b[1;32m   1080\u001b[0m \u001b[0;34m\u001b[0m\u001b[0m\n\u001b[1;32m   1081\u001b[0m \u001b[0;34m\u001b[0m\u001b[0m\n\u001b[0;32m-> 1082\u001b[0;31m         \u001b[0mlast_unique\u001b[0m\u001b[0;34m,\u001b[0m \u001b[0mrecursion_repeat\u001b[0m \u001b[0;34m=\u001b[0m \u001b[0mfind_recursion\u001b[0m\u001b[0;34m(\u001b[0m\u001b[0morig_etype\u001b[0m\u001b[0;34m,\u001b[0m \u001b[0mevalue\u001b[0m\u001b[0;34m,\u001b[0m \u001b[0mrecords\u001b[0m\u001b[0;34m)\u001b[0m\u001b[0;34m\u001b[0m\u001b[0;34m\u001b[0m\u001b[0m\n\u001b[0m\u001b[1;32m   1083\u001b[0m \u001b[0;34m\u001b[0m\u001b[0m\n\u001b[1;32m   1084\u001b[0m         \u001b[0mframes\u001b[0m \u001b[0;34m=\u001b[0m \u001b[0mself\u001b[0m\u001b[0;34m.\u001b[0m\u001b[0mformat_records\u001b[0m\u001b[0;34m(\u001b[0m\u001b[0mrecords\u001b[0m\u001b[0;34m,\u001b[0m \u001b[0mlast_unique\u001b[0m\u001b[0;34m,\u001b[0m \u001b[0mrecursion_repeat\u001b[0m\u001b[0;34m)\u001b[0m\u001b[0;34m\u001b[0m\u001b[0;34m\u001b[0m\u001b[0m\n",
            "\u001b[0;32m/usr/local/lib/python3.10/dist-packages/IPython/core/ultratb.py\u001b[0m in \u001b[0;36mfind_recursion\u001b[0;34m(etype, value, records)\u001b[0m\n\u001b[1;32m    380\u001b[0m     \u001b[0;31m# first frame (from in to out) that looks different.\u001b[0m\u001b[0;34m\u001b[0m\u001b[0;34m\u001b[0m\u001b[0m\n\u001b[1;32m    381\u001b[0m     \u001b[0;32mif\u001b[0m \u001b[0;32mnot\u001b[0m \u001b[0mis_recursion_error\u001b[0m\u001b[0;34m(\u001b[0m\u001b[0metype\u001b[0m\u001b[0;34m,\u001b[0m \u001b[0mvalue\u001b[0m\u001b[0;34m,\u001b[0m \u001b[0mrecords\u001b[0m\u001b[0;34m)\u001b[0m\u001b[0;34m:\u001b[0m\u001b[0;34m\u001b[0m\u001b[0;34m\u001b[0m\u001b[0m\n\u001b[0;32m--> 382\u001b[0;31m         \u001b[0;32mreturn\u001b[0m \u001b[0mlen\u001b[0m\u001b[0;34m(\u001b[0m\u001b[0mrecords\u001b[0m\u001b[0;34m)\u001b[0m\u001b[0;34m,\u001b[0m \u001b[0;36m0\u001b[0m\u001b[0;34m\u001b[0m\u001b[0;34m\u001b[0m\u001b[0m\n\u001b[0m\u001b[1;32m    383\u001b[0m \u001b[0;34m\u001b[0m\u001b[0m\n\u001b[1;32m    384\u001b[0m     \u001b[0;31m# Select filename, lineno, func_name to track frames with\u001b[0m\u001b[0;34m\u001b[0m\u001b[0;34m\u001b[0m\u001b[0m\n",
            "\u001b[0;31mTypeError\u001b[0m: object of type 'NoneType' has no len()"
          ]
        }
      ]
    },
    {
      "cell_type": "code",
      "source": [
        "#Create a program that uses a thread pool to calculate the factorial of numbers from 1 to 10 concurrently.\n",
        "#Use concurrent.futures.ThreadPoolExecutor to manage the threads.\n",
        "\n",
        "import concurrent.futures\n",
        "import math\n",
        "\n",
        "def factorial(n):\n",
        "    return math.factorial(n)\n",
        "\n",
        "def main():\n",
        "    numbers = range(1, 11)\n",
        "\n",
        "\n",
        "    with concurrent.futures.ThreadPoolExecutor() as executor:\n",
        "\n",
        "        futures = [executor.submit(factorial, num) for num in numbers]\n",
        "\n",
        "        for future in concurrent.futures.as_completed(futures):\n",
        "            print(f\"Factorial of {futures.index(future) + 1}: {future.result()}\")\n",
        "\n",
        "if __name__ == \"__main__\":\n",
        "    main()\n"
      ],
      "metadata": {
        "colab": {
          "base_uri": "https://localhost:8080/"
        },
        "id": "sHmo3-IxZIwi",
        "outputId": "01a7f44d-9891-4181-c19f-1f96daacaa91"
      },
      "execution_count": 17,
      "outputs": [
        {
          "output_type": "stream",
          "name": "stdout",
          "text": [
            "Factorial of 3: 6\n",
            "Factorial of 10: 3628800\n",
            "Factorial of 2: 2\n",
            "Factorial of 5: 120\n",
            "Factorial of 4: 24\n",
            "Factorial of 1: 1\n",
            "Factorial of 6: 720\n",
            "Factorial of 9: 362880\n",
            "Factorial of 7: 5040\n",
            "Factorial of 8: 40320\n"
          ]
        }
      ]
    },
    {
      "cell_type": "code",
      "source": [
        "#Create a Python program that uses multiprocessing.Pool to compute the square of numbers from 1 to 10 in\n",
        "#parallel. Measure the time taken to perform this computation using a pool of different sizes (e.g., 2, 4, 8\n",
        "#processes)"
      ],
      "metadata": {
        "id": "UVwPzuxoaAoK"
      },
      "execution_count": null,
      "outputs": []
    },
    {
      "cell_type": "code",
      "source": [
        "import multiprocessing\n",
        "import time\n",
        "\n",
        "def compute_square(n):\n",
        "    return n * n\n",
        "\n",
        "def measure_time(pool_size):\n",
        "    with multiprocessing.Pool(processes=pool_size) as pool:\n",
        "        numbers = list(range(1, 11))\n",
        "\n",
        "        start_time = time.time()\n",
        "        results = pool.map(compute_square, numbers)\n",
        "        end_time = time.time()\n",
        "\n",
        "        duration = end_time - start_time\n",
        "        return results, duration\n",
        "\n",
        "if __name__ == \"__main__\":\n",
        "    pool_sizes = [2, 4, 8]\n",
        "\n",
        "    for size in pool_sizes:\n",
        "        results, duration = measure_time(size)\n",
        "        print(f\"Pool size: {size} | Duration: {duration:.5f} seconds | Results: {results}\")\n"
      ],
      "metadata": {
        "colab": {
          "base_uri": "https://localhost:8080/"
        },
        "id": "gN-YbC1raNOB",
        "outputId": "1c98c893-9a19-4e58-d179-0be3f28090df"
      },
      "execution_count": 18,
      "outputs": [
        {
          "output_type": "stream",
          "name": "stdout",
          "text": [
            "Pool size: 2 | Duration: 0.00895 seconds | Results: [1, 4, 9, 16, 25, 36, 49, 64, 81, 100]\n",
            "Pool size: 4 | Duration: 0.00613 seconds | Results: [1, 4, 9, 16, 25, 36, 49, 64, 81, 100]\n",
            "Pool size: 8 | Duration: 0.00440 seconds | Results: [1, 4, 9, 16, 25, 36, 49, 64, 81, 100]\n"
          ]
        }
      ]
    },
    {
      "cell_type": "code",
      "source": [],
      "metadata": {
        "id": "H0RQuQfBaOQt"
      },
      "execution_count": null,
      "outputs": []
    }
  ]
}